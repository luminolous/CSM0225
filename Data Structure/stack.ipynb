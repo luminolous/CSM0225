{
 "cells": [
  {
   "cell_type": "code",
   "execution_count": 3,
   "metadata": {},
   "outputs": [
    {
     "name": "stdout",
     "output_type": "stream",
     "text": [
      "[1, 2, 7, 6, 4]\n",
      "[1, 2, 7, 6]\n"
     ]
    }
   ],
   "source": [
    "stack = [1, 2, 7, 6]\n",
    "stack.append(4)\n",
    "print(stack)\n",
    "stack.pop()\n",
    "print(stack)"
   ]
  },
  {
   "cell_type": "code",
   "execution_count": null,
   "metadata": {},
   "outputs": [
    {
     "name": "stdout",
     "output_type": "stream",
     "text": [
      "0 : []\n",
      "1 : [6]\n",
      "2 : [6, 7]\n",
      "3 : [6, 7, 2]\n",
      "4 : [6, 7, 2, 1]\n",
      "5 : [6, 7, 2, 1, 4]\n",
      "4 : [6, 7, 2, 1]\n"
     ]
    }
   ],
   "source": [
    "stack = []\n",
    "print(len(stack),':', stack)\n",
    "stack.append(6)\n",
    "print(len(stack),':', stack)\n",
    "stack.append(7)\n",
    "print(len(stack),':', stack)\n",
    "stack.append(2)\n",
    "print(len(stack),':', stack)\n",
    "stack.append(1)\n",
    "print(len(stack),':', stack)\n",
    "stack.append(4)\n",
    "print(len(stack),':', stack)\n",
    "stack.pop()\n",
    "print(len(stack),':', stack)"
   ]
  },
  {
   "cell_type": "code",
   "execution_count": 15,
   "metadata": {},
   "outputs": [
    {
     "name": "stdout",
     "output_type": "stream",
     "text": [
      "[3]\n",
      "[]\n",
      "[6]\n"
     ]
    }
   ],
   "source": [
    "stack = []\n",
    "num = int(input())\n",
    "\n",
    "for i in range(num):\n",
    "    cmd = str(input())\n",
    "    if cmd == '+':\n",
    "        stack.append(int(input()))\n",
    "        print(stack)\n",
    "    elif cmd == '-':\n",
    "        if not stack:\n",
    "            print('False')\n",
    "            break\n",
    "        stack.pop()\n",
    "        print(stack)"
   ]
  },
  {
   "cell_type": "code",
   "execution_count": 33,
   "metadata": {},
   "outputs": [
    {
     "name": "stdout",
     "output_type": "stream",
     "text": [
      "True\n",
      "['(']\n"
     ]
    }
   ],
   "source": [
    "symbol = str(input())\n",
    "stack = []\n",
    "value = {')':'(',\n",
    "         '}':'{',\n",
    "         ']':'['}\n",
    "\n",
    "for char in symbol:\n",
    "    if char in value.values():\n",
    "        stack.append(char)\n",
    "    elif char in value.keys():\n",
    "        if not stack or stack[-1] != value[char]:\n",
    "            print('False')\n",
    "            break\n",
    "        stack.pop()\n",
    "    print('True')\n",
    "    print(stack)\n",
    "    break"
   ]
  },
  {
   "cell_type": "code",
   "execution_count": null,
   "metadata": {},
   "outputs": [
    {
     "name": "stdout",
     "output_type": "stream",
     "text": [
      "3\n",
      "[5, 7, 3, 8] [5, 3]\n",
      "[5, 7, 3] [5, 3]\n",
      "3\n",
      "[5, 7] [5]\n",
      "5\n"
     ]
    }
   ],
   "source": [
    "num = int(input())\n",
    "stack = []\n",
    "min_stk = []\n",
    "\n",
    "for _ in range(num):\n",
    "    ipt = list(input().split( ))\n",
    "    if ipt[0] == 'PUSH':\n",
    "        stack.append(int(ipt[1]))\n",
    "        if min_stk == [] or stack[-1] < min_stk[-1]:\n",
    "            min_stk.append(int(ipt[1]))\n",
    "    elif ipt[0] == 'POP':\n",
    "        if stack[-1] == min_stk[-1]:\n",
    "            min_stk.pop()\n",
    "        stack.pop()\n",
    "    else:\n",
    "        print(min_stk[-1])"
   ]
  }
 ],
 "metadata": {
  "kernelspec": {
   "display_name": "Python 3",
   "language": "python",
   "name": "python3"
  },
  "language_info": {
   "codemirror_mode": {
    "name": "ipython",
    "version": 3
   },
   "file_extension": ".py",
   "mimetype": "text/x-python",
   "name": "python",
   "nbconvert_exporter": "python",
   "pygments_lexer": "ipython3",
   "version": "3.13.0"
  }
 },
 "nbformat": 4,
 "nbformat_minor": 2
}
