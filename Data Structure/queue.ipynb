{
 "cells": [
  {
   "cell_type": "code",
   "execution_count": 5,
   "metadata": {},
   "outputs": [
    {
     "name": "stdout",
     "output_type": "stream",
     "text": [
      "[9]\n",
      "[9, 3]\n",
      "[9, 3, 9]\n",
      "[9, 3, 9, 1]\n",
      "9\n",
      "[3, 9, 1]\n",
      "[3, 9, 1, 2]\n",
      "3\n",
      "[9, 1, 2]\n",
      "9\n",
      "[1, 2]\n",
      "1\n",
      "[2]\n",
      "2\n",
      "[]\n"
     ]
    }
   ],
   "source": [
    "queue = []\n",
    "queue.append(9)\n",
    "print(queue)\n",
    "queue.append(3)\n",
    "print(queue)\n",
    "queue.append(9)\n",
    "print(queue)\n",
    "queue.append(1)\n",
    "print(queue)\n",
    "print(queue.pop(0))\n",
    "print(queue)\n",
    "queue.append(2)\n",
    "print(queue)\n",
    "print(queue.pop(0))\n",
    "print(queue)\n",
    "print(queue.pop(0))\n",
    "print(queue)\n",
    "print(queue.pop(0))\n",
    "print(queue)\n",
    "print(queue.pop(0))\n",
    "print(queue)"
   ]
  },
  {
   "cell_type": "code",
   "execution_count": null,
   "metadata": {},
   "outputs": [
    {
     "name": "stdout",
     "output_type": "stream",
     "text": [
      "['+3', '+9', '+1', '-', '+2', '-', '-', '-', '-']\n",
      "+3: ['3']\n",
      "+9: ['3', '9']\n",
      "+1: ['3', '9', '1']\n",
      "-3: ['9', '1']\n",
      "+2: ['9', '1', '2']\n",
      "-9: ['1', '2']\n",
      "-1: ['2']\n",
      "-2: []\n",
      "None\n",
      "+3: ['3']\n",
      "+9: ['3', '9']\n",
      "+1: ['3', '9', '1']\n",
      "-1: ['3', '9']\n",
      "+2: ['3', '9', '2']\n",
      "-2: ['3', '9']\n",
      "-9: ['3']\n",
      "-3: []\n",
      "None\n",
      "[]\n",
      "[]\n"
     ]
    }
   ],
   "source": [
    "queue = []\n",
    "stack = []\n",
    "\n",
    "num = int(input())\n",
    "cmd = []\n",
    "for i in range(num):\n",
    "    cmd.append(input())\n",
    "print(cmd)\n",
    "\n",
    "for i in cmd:\n",
    "    if i[0] == '+':\n",
    "        val = i[len(i)-1]\n",
    "        queue.append(val)\n",
    "        print('+' + val + ':', queue)\n",
    "    elif i[0] == '-':\n",
    "        if len(queue) == 0:\n",
    "            print('None')\n",
    "        else:\n",
    "            print('-' + queue.pop(0) + ':', queue)\n",
    "\n",
    "for i in cmd:\n",
    "    if i[0] == '+':\n",
    "        val = i[len(i)-1]\n",
    "        stack.append(val)\n",
    "        print('+' + val + ':', stack)\n",
    "    elif i[0] == '-':\n",
    "        if len(stack) == 0:\n",
    "            print('None')\n",
    "        else:\n",
    "            print('-' + stack.pop() + ':', stack)\n",
    "\n",
    "print(queue)\n",
    "print(stack)"
   ]
  },
  {
   "cell_type": "code",
   "execution_count": null,
   "metadata": {},
   "outputs": [],
   "source": [
    "num = int(input())\n"
   ]
  },
  {
   "cell_type": "code",
   "execution_count": 19,
   "metadata": {},
   "outputs": [
    {
     "name": "stdout",
     "output_type": "stream",
     "text": [
      "['u']\n"
     ]
    }
   ],
   "source": [
    "nice = ['u', 'i']\n",
    "nice.pop()\n",
    "print(nice)"
   ]
  },
  {
   "cell_type": "code",
   "execution_count": null,
   "metadata": {},
   "outputs": [
    {
     "name": "stdout",
     "output_type": "stream",
     "text": [
      "gdgdgd[gdgd]\n",
      "['d', 'g', 'd', ']']\n",
      "['d', 'd', 'd', 'g', 'g', ']']\n"
     ]
    }
   ],
   "source": [
    "ipt = input()\n",
    "inp = []\n",
    "for i in ipt:\n",
    "    inp.append(i)\n",
    "\n",
    "new = []\n",
    "for i in ipt:\n",
    "    if i == '[':\n",
    "        inp.pop(0)\n",
    "        for j in inp:\n",
    "            if j == ']':\n",
    "                inp.pop(0)\n",
    "            new.append(j)\n",
    "            inp.pop(0)\n",
    "\n",
    "print(ipt)\n",
    "print(inp)\n",
    "print(new)"
   ]
  }
 ],
 "metadata": {
  "kernelspec": {
   "display_name": "Python 3",
   "language": "python",
   "name": "python3"
  },
  "language_info": {
   "codemirror_mode": {
    "name": "ipython",
    "version": 3
   },
   "file_extension": ".py",
   "mimetype": "text/x-python",
   "name": "python",
   "nbconvert_exporter": "python",
   "pygments_lexer": "ipython3",
   "version": "3.12.4"
  }
 },
 "nbformat": 4,
 "nbformat_minor": 2
}
